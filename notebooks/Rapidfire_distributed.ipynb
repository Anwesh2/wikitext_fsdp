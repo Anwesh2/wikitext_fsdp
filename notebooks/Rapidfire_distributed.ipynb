{
 "cells": [
  {
   "cell_type": "code",
   "execution_count": null,
   "id": "37c6f239-6239-4703-825b-0158c58a8a23",
   "metadata": {},
   "outputs": [],
   "source": [
    "# !pip install datasets transformers\n",
    "# !pip install accelerate -U"
   ]
  },
  {
   "cell_type": "code",
   "execution_count": 1,
   "id": "318c22c7-f4f0-45a6-a1a4-29cef6dd6357",
   "metadata": {},
   "outputs": [
    {
     "name": "stdout",
     "output_type": "stream",
     "text": [
      "BUILD_FROM_SOURCE_PACKAGES_LICENCES\t PYTHON_PACKAGES_LICENSES\n",
      "gpt2-finetuned-wikitext2\t\t Rapidfire_distributed.ipynb\n",
      "LINUX_PACKAGES_LICENSES\t\t\t Rapidfire.ipynb\n",
      "LINUX_PACKAGES_LIST\t\t\t run_clm_no_trainer.py\n",
      "OSSNvidiaDriver_v535.161.08_license.txt  THIRD_PARTY_SOURCE_CODE_URLS\n"
     ]
    }
   ],
   "source": [
    "!ls"
   ]
  },
  {
   "cell_type": "code",
   "execution_count": 2,
   "id": "d1308d72-b0a2-470d-845e-e1f3edf746ad",
   "metadata": {},
   "outputs": [
    {
     "name": "stdout",
     "output_type": "stream",
     "text": [
      "\n",
      "Copy-and-paste the text below in your GitHub issue\n",
      "\n",
      "- `Accelerate` version: 0.29.2\n",
      "- Platform: Linux-5.10.213-201.855.amzn2.x86_64-x86_64-with-glibc2.26\n",
      "- `accelerate` bash location: /opt/conda/bin/accelerate\n",
      "- Python version: 3.10.9\n",
      "- Numpy version: 1.26.4\n",
      "- PyTorch version (GPU?): 2.2.2+cu121 (True)\n",
      "- PyTorch XPU available: False\n",
      "- PyTorch NPU available: False\n",
      "- PyTorch MLU available: False\n",
      "- System RAM: 186.60 GB\n",
      "- GPU type: Tesla T4\n",
      "- `Accelerate` default config:\n",
      "\tNot found\n"
     ]
    }
   ],
   "source": [
    "!accelerate env"
   ]
  },
  {
   "cell_type": "code",
   "execution_count": 4,
   "id": "a3ee7e86-4c20-49d6-b943-eda5ff5c70cc",
   "metadata": {},
   "outputs": [
    {
     "name": "stdout",
     "output_type": "stream",
     "text": [
      "--------------------------------------------------------------------------------In which compute environment are you running?\n",
      "Please select a choice using the arrow or number keys, and selecting with enter\n",
      " ➔  \u001b[32mThis machine\u001b[0m\n",
      "    AWS (Amazon SageMaker)\n",
      "\u001b[2A\u001b[?25l\u001b[2B\u001b[?25hTraceback (most recent call last):\n",
      "  File \"/opt/conda/bin/accelerate\", line 8, in <module>\n",
      "    sys.exit(main())\n",
      "  File \"/opt/conda/lib/python3.10/site-packages/accelerate/commands/accelerate_cli.py\", line 46, in main\n",
      "    args.func(args)\n",
      "  File \"/opt/conda/lib/python3.10/site-packages/accelerate/commands/config/config.py\", line 67, in config_command\n",
      "    config = get_user_input()\n",
      "  File \"/opt/conda/lib/python3.10/site-packages/accelerate/commands/config/config.py\", line 32, in get_user_input\n",
      "    compute_environment = _ask_options(\n",
      "  File \"/opt/conda/lib/python3.10/site-packages/accelerate/commands/config/config_utils.py\", line 60, in _ask_options\n",
      "    result = menu.run(default_choice=default)\n",
      "  File \"/opt/conda/lib/python3.10/site-packages/accelerate/commands/menu/selection_menu.py\", line 137, in run\n",
      "    choice = self.handle_input()\n",
      "  File \"/opt/conda/lib/python3.10/site-packages/accelerate/commands/menu/input.py\", line 79, in handle_input\n",
      "    return handler(cls)\n",
      "  File \"/opt/conda/lib/python3.10/site-packages/accelerate/commands/menu/selection_menu.py\", line 97, in interrupt\n",
      "    raise KeyboardInterrupt\n",
      "KeyboardInterrupt\n"
     ]
    },
    {
     "data": {
      "text/plain": [
       "0"
      ]
     },
     "execution_count": 4,
     "metadata": {},
     "output_type": "execute_result"
    }
   ],
   "source": [
    "!accelerate config"
   ]
  },
  {
   "cell_type": "code",
   "execution_count": null,
   "id": "3b90e127-27da-4795-8c9a-7c3f4e6e0255",
   "metadata": {},
   "outputs": [],
   "source": [
    "# !python 'run_clm_no_trainer.py' \\\n",
    "#     --dataset_name wikitext \\\n",
    "#     --dataset_config_name wikitext-2-v1 \\\n",
    "#     --model_name_or_path openai-community/gpt2 \\\n",
    "#     --output_dir /tmp/test-clm \\\n",
    "#     --per_device_train_batch_size 24 \\\n",
    "#     --per_device_eval_batch_size 24 \\\n",
    "#     --block_size 128"
   ]
  },
  {
   "cell_type": "code",
   "execution_count": null,
   "id": "b0b4dfa9-65dd-4124-8328-663e1b66f3fe",
   "metadata": {},
   "outputs": [],
   "source": [
    "export BS=24"
   ]
  },
  {
   "cell_type": "code",
   "execution_count": null,
   "id": "7a2dcfb2-36e1-4bdc-a9c1-084163cbd6b2",
   "metadata": {},
   "outputs": [],
   "source": [
    "time accelerate launch run_clm_no_trainer.py \\\n",
    "--model_name_or_path openai-community/gpt2 \\\n",
    "--dataset_name wikitext \\\n",
    "--dataset_config_name wikitext-2-v1 \\\n",
    "--per_device_train_batch_size $BS \\\n",
    "--per_device_eval_batch_size $BS \\\n",
    "--num_train_epochs 2 \\\n",
    "--gradient_accumulation_steps 4 \\\n",
    "--block_size 512\n"
   ]
  },
  {
   "cell_type": "code",
   "execution_count": null,
   "id": "edc0bbfc-1d60-4e3d-b0ef-feee12bd11ed",
   "metadata": {},
   "outputs": [],
   "source": [
    "# time accelerate launch run_clm_no_trainer.py \\\n",
    "# --model_name_or_path gpt2-large \\\n",
    "# --dataset_name wikitext \\\n",
    "# --dataset_config_name wikitext-2-raw-v1 \\\n",
    "# --per_device_train_batch_size $BS \n",
    "# --per_device_eval_batch_size $BS \n",
    "# --num_train_epochs 1 \n",
    "# --block_size 12"
   ]
  },
  {
   "cell_type": "code",
   "execution_count": 2,
   "id": "fa5f7533-6e29-412c-8be8-566aa3f125b8",
   "metadata": {},
   "outputs": [
    {
     "name": "stdout",
     "output_type": "stream",
     "text": [
      "torch. __version__ 2.2.2+cu121\n"
     ]
    }
   ],
   "source": [
    "import torch\n",
    "print('torch. __version__', torch. __version__)\n"
   ]
  }
 ],
 "metadata": {
  "kernelspec": {
   "display_name": "Python 3 (ipykernel)",
   "language": "python",
   "name": "python3"
  },
  "language_info": {
   "codemirror_mode": {
    "name": "ipython",
    "version": 3
   },
   "file_extension": ".py",
   "mimetype": "text/x-python",
   "name": "python",
   "nbconvert_exporter": "python",
   "pygments_lexer": "ipython3",
   "version": "3.10.9"
  }
 },
 "nbformat": 4,
 "nbformat_minor": 5
}
